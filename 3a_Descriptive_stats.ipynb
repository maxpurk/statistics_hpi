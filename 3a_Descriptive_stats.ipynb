{
 "cells": [
  {
   "cell_type": "code",
   "execution_count": 1,
   "metadata": {},
   "outputs": [],
   "source": [
    "#Importing Libraries\n",
    "import pandas as pd\n",
    "import numpy as np\n",
    "import matplotlib.pyplot as plt\n",
    "import seaborn as sns\n",
    "from scipy import stats\n",
    "import os\n",
    "import re"
   ]
  },
  {
   "cell_type": "code",
   "execution_count": 2,
   "metadata": {},
   "outputs": [
    {
     "name": "stdout",
     "output_type": "stream",
     "text": [
      "id                    36\n",
      "condition             36\n",
      "standard deviation    36\n",
      "num_peaks             36\n",
      "Calc. HR              36\n",
      "age                   36\n",
      "sex                   36\n",
      "weight                36\n",
      "dtype: int64\n",
      "       standard deviation  num_peaks    Calc. HR        age     weight\n",
      "count           60.000000  60.000000   60.000000  60.000000  60.000000\n",
      "mean             0.066595   6.466667   77.600000  25.166667  74.900000\n",
      "std              0.037259   1.881819   22.581829   5.029293  11.513735\n",
      "min              0.032221   3.000000   36.000000  17.000000  53.000000\n",
      "25%              0.042615   5.000000   60.000000  21.000000  65.000000\n",
      "50%              0.053826   6.000000   72.000000  26.500000  77.000000\n",
      "75%              0.074847   7.250000   87.000000  29.000000  84.000000\n",
      "max              0.179387  11.000000  132.000000  35.000000  92.000000\n"
     ]
    }
   ],
   "source": [
    "#Define the Path\n",
    "#Amin\n",
    "#DATA_PATH = r\"C:\\Users\\amink\\Desktop\\Uni\\HPI\\2.Semester\\StatisticsForCH\\Studie\\statistics_hpi\\Experiment1\\Raw_Data\"\n",
    "DATA_PATH = \"/Users/max/Desktop/Potsdam/HPI/2_SecondSemester/7_StatisticsInConnectedHealthcare/statistics_hpi/Raw_Data\"\n",
    "\n",
    "\n",
    "final_df = pd.read_csv(\"0_final_df.csv\", dtype={\"id\": str})\n",
    "\n",
    "count_gender = final_df[final_df[\"sex\"] == \"male\"].count()\n",
    "\n",
    "# Print the count of males\n",
    "print(count_gender)\n",
    "\n",
    "# Assuming your DataFrame is named 'df'\n",
    "descriptive_stats = final_df.describe()\n",
    "\n",
    "# Print the descriptive statistics\n",
    "print(descriptive_stats)"
   ]
  }
 ],
 "metadata": {
  "kernelspec": {
   "display_name": "base",
   "language": "python",
   "name": "python3"
  },
  "language_info": {
   "codemirror_mode": {
    "name": "ipython",
    "version": 3
   },
   "file_extension": ".py",
   "mimetype": "text/x-python",
   "name": "python",
   "nbconvert_exporter": "python",
   "pygments_lexer": "ipython3",
   "version": "3.9.15"
  },
  "orig_nbformat": 4
 },
 "nbformat": 4,
 "nbformat_minor": 2
}
