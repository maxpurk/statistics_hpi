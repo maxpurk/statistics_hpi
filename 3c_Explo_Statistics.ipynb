{
 "cells": [
  {
   "attachments": {},
   "cell_type": "markdown",
   "metadata": {},
   "source": [
    "### t test for feasability study "
   ]
  },
  {
   "cell_type": "code",
   "execution_count": 26,
   "metadata": {},
   "outputs": [],
   "source": [
    "import pandas as pd\n",
    "import numpy as np\n",
    "from scipy import stats"
   ]
  },
  {
   "cell_type": "code",
   "execution_count": 27,
   "metadata": {},
   "outputs": [],
   "source": [
    "#import the data\n",
    "df = pd.read_csv(\"0_final_df.csv\")\n",
    "\n",
    "final_df = pd.read_csv(\"0_final_df.csv\")\n"
   ]
  },
  {
   "cell_type": "code",
   "execution_count": 28,
   "metadata": {},
   "outputs": [],
   "source": [
    "#get the values for rest\n",
    "rest_values = df[df[\"condition\"] == \"rest\"][\"standard deviation\"].values\n",
    "\n",
    "#get the values for stress\n",
    "stress_values = df[df[\"condition\"] == \"stress\"][\"standard deviation\"].values\n",
    "\n"
   ]
  },
  {
   "attachments": {},
   "cell_type": "markdown",
   "metadata": {},
   "source": [
    "Check if our data has normal distribution"
   ]
  },
  {
   "cell_type": "code",
   "execution_count": 29,
   "metadata": {},
   "outputs": [
    {
     "data": {
      "text/plain": [
       "ShapiroResult(statistic=0.8407262563705444, pvalue=0.0003989214019384235)"
      ]
     },
     "execution_count": 29,
     "metadata": {},
     "output_type": "execute_result"
    }
   ],
   "source": [
    "stats.shapiro(rest_values) #rest"
   ]
  },
  {
   "cell_type": "markdown",
   "metadata": {},
   "source": [
    "Effect Size Calculation"
   ]
  },
  {
   "cell_type": "code",
   "execution_count": 30,
   "metadata": {},
   "outputs": [
    {
     "name": "stdout",
     "output_type": "stream",
     "text": [
      "Effect Size (Cohen's d): 1.1337655128638684\n"
     ]
    }
   ],
   "source": [
    "import numpy as np\n",
    "from scipy import stats\n",
    "\n",
    "# Data\n",
    "stress = final_df[final_df[\"condition\"] == \"stress\"][\"standard deviation\"].values\n",
    "rest = final_df[final_df[\"condition\"] == \"rest\"][\"standard deviation\"].values\n",
    "\n",
    "# Paired two-sample t-test\n",
    "t_statistic, p_value = stats.ttest_rel(stress, rest)\n",
    "\n",
    "# Effect size calculation\n",
    "n = len(stress)\n",
    "mean_diff = np.mean(stress) - np.mean(rest)\n",
    "pooled_std = np.sqrt(((n - 1) * np.var(stress) + (n - 1) * np.var(rest)) / (2 * (n - 1)))\n",
    "effect_size = mean_diff / pooled_std\n",
    "\n",
    "print(\"Effect Size (Cohen's d):\", effect_size)\n"
   ]
  },
  {
   "cell_type": "code",
   "execution_count": 31,
   "metadata": {},
   "outputs": [
    {
     "name": "stdout",
     "output_type": "stream",
     "text": [
      "Sample Size: 10\n"
     ]
    }
   ],
   "source": [
    "import statsmodels.stats.power as ssp\n",
    "\n",
    "alpha = 0.05  \n",
    "beta = 0.2   \n",
    "effect_size = 1.13 \n",
    "\n",
    "\n",
    "sample_size = ssp.tt_ind_solve_power(effect_size=effect_size,\n",
    "nobs1 = None, ratio = 1, alpha=alpha, power=(1 - beta), \n",
    "alternative='larger')\n",
    "\n",
    "print(\"Sample Size:\", round(sample_size))\n"
   ]
  },
  {
   "cell_type": "code",
   "execution_count": 32,
   "metadata": {},
   "outputs": [
    {
     "name": "stdout",
     "output_type": "stream",
     "text": [
      "Test statistic: 444.0\n",
      "p-value: < 0.001\n"
     ]
    }
   ],
   "source": [
    "# Perform the Wilcoxon signed-rank test (one-tailed, alternative = 'greater')\n",
    "statistic, p_value = stats.wilcoxon(stress_values, rest_values, alternative='greater')\n",
    "\n",
    "# Format the p-value\n",
    "p_value_formatted = \"< 0.001\" if p_value < 0.001 else \"{:.3f}\".format(p_value)\n",
    "\n",
    "# Print the test statistic and p-value\n",
    "print(\"Test statistic:\", statistic)\n",
    "print(\"p-value:\", p_value_formatted)"
   ]
  },
  {
   "cell_type": "markdown",
   "metadata": {},
   "source": [
    "Now make a Variance Test"
   ]
  },
  {
   "cell_type": "code",
   "execution_count": 33,
   "metadata": {},
   "outputs": [
    {
     "name": "stdout",
     "output_type": "stream",
     "text": [
      "Test statistic: 13.669501323920183\n",
      "p-value: < 0.001\n"
     ]
    }
   ],
   "source": [
    "# Perform Fligner-Killeen test for equal variances of paired samples\n",
    "statistic, p_value = stats.fligner(rest_values, stress_values)\n",
    "\n",
    "# Format the p-value\n",
    "p_value_formatted = \"< 0.001\" if p_value < 0.001 else \"{:.3f}\".format(p_value)\n",
    "\n",
    "# Print the test statistic and p-value\n",
    "print(\"Test statistic:\", statistic)\n",
    "print(\"p-value:\", p_value_formatted)\n"
   ]
  },
  {
   "cell_type": "code",
   "execution_count": 34,
   "metadata": {},
   "outputs": [
    {
     "data": {
      "image/png": "[encoded data removed]",
      "text/plain": [
       "<Figure size 640x480 with 1 Axes>"
      ]
     },
     "metadata": {},
     "output_type": "display_data"
    }
   ],
   "source": [
    "# Discrete Distribution\n",
    "import matplotlib.pyplot as plt\n",
    "import numpy as np\n",
    "from scipy.stats import binom\n",
    "\n",
    "# Parameters\n",
    "n = 30  # Number of trials\n",
    "p = 0.5  # Probability of success\n",
    "\n",
    "# Generate binomial distribution\n",
    "x = np.arange(0, n+1)\n",
    "binom_dist = binom.pmf(x, n, p)\n",
    "\n",
    "# Plot the binomial distribution\n",
    "plt.bar(x, binom_dist)\n",
    "plt.xlabel('Number of Successes')\n",
    "plt.ylabel('Probability')\n",
    "plt.title('Binomial Distribution (n=30, p=0.5)')\n",
    "plt.show()\n"
   ]
  },
  {
   "cell_type": "code",
   "execution_count": 35,
   "metadata": {},
   "outputs": [
    {
     "name": "stdout",
     "output_type": "stream",
     "text": [
      "p-value: 0.36159460805356514\n"
     ]
    }
   ],
   "source": [
    "from scipy.stats import binom_test\n",
    "\n",
    "# Parameters\n",
    "n = 30  # Number of trials\n",
    "p = 0.5  # Probability of success\n",
    "x = 12  # Number of successes\n",
    "\n",
    "# Perform hypothesis test\n",
    "p_value = binom_test(x, n, p, alternative='two-sided')\n",
    "\n",
    "# Print the p-value\n",
    "print(\"p-value:\", p_value)\n"
   ]
  }
 ],
 "metadata": {
  "kernelspec": {
   "display_name": "Python 3 (ipykernel)",
   "language": "python",
   "name": "python3"
  },
  "language_info": {
   "codemirror_mode": {
    "name": "ipython",
    "version": 3
   },
   "file_extension": ".py",
   "mimetype": "text/x-python",
   "name": "python",
   "nbconvert_exporter": "python",
   "pygments_lexer": "ipython3",
   "version": "3.9.15"
  }
 },
 "nbformat": 4,
 "nbformat_minor": 2
}
